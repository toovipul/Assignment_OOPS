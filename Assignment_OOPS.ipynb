{
  "nbformat": 4,
  "nbformat_minor": 0,
  "metadata": {
    "colab": {
      "provenance": []
    },
    "kernelspec": {
      "name": "python3",
      "display_name": "Python 3"
    },
    "language_info": {
      "name": "python"
    }
  },
  "cells": [
    {
      "cell_type": "markdown",
      "source": [
        "**1. Five Key Concepts of OOP**\n",
        "\n",
        "1.Encapsulation: Bundling data (attributes) and methods that operate on that data within a single unit (class).\n",
        "\n",
        "2.Inheritance: Creating new classes (child classes) from existing ones (parent classes), inheriting their attributes and methods.\n",
        "\n",
        "3.Polymorphism: The ability of objects of different types to be treated as if they were of the same type.\n",
        "\n",
        "4.Abstraction: Focusing on the essential features of an object while hiding the implementation details.\n",
        "\n",
        "5.Object: An instance of a class, with its own state (attributes) and behavior (methods)."
      ],
      "metadata": {
        "id": "PtpMNfPCmgwU"
      }
    },
    {
      "cell_type": "code",
      "source": [
        "# 2.Python Car Class\n",
        "class Car:\n",
        "    def __init__(self, make, model, year):\n",
        "        self.make = make\n",
        "        self.model = model\n",
        "        self.year = year\n",
        "\n",
        "    def display_info(self):\n",
        "        print(f\"Make: {self.make}\")\n",
        "        print(f\"Model: {self.model}\")\n",
        "        print(f\"Year: {self.year}\")"
      ],
      "metadata": {
        "id": "g4EyekUwm-Yj"
      },
      "execution_count": null,
      "outputs": []
    },
    {
      "cell_type": "markdown",
      "source": [
        "3. Instance Methods vs. Class Methods\n",
        "\n",
        "Instance Methods: Operate on specific instances of a class and have access to the instance's attributes.\n",
        "\n",
        "Class Methods: Operate on the class itself and don't have access to instance attributes. They are often used for utility functions or to create class-level variables."
      ],
      "metadata": {
        "id": "obGb9VQfnTdU"
      }
    },
    {
      "cell_type": "code",
      "source": [
        "class MyClass:\n",
        "    class_variable = 10\n",
        "\n",
        "    def instance_method(self):\n",
        "        print(self.instance_variable)  # Access instance attribute\n",
        "\n",
        "    @classmethod\n",
        "    def class_method(cls):\n",
        "        print(cls.class_variable)  # Access class variable"
      ],
      "metadata": {
        "id": "IXbValcvnWY6"
      },
      "execution_count": null,
      "outputs": []
    },
    {
      "cell_type": "markdown",
      "source": [
        "**4. Python and Method Overloading**\n",
        "\n",
        "Python doesn't directly support method overloading like other languages. It relies on function arguments and default values to simulate overloading."
      ],
      "metadata": {
        "id": "QMEzI3_8wPNn"
      }
    },
    {
      "cell_type": "code",
      "source": [
        "# Example\n",
        "#method overriding >> re-writing/re-defining methods of parent class in derived/child class\n",
        "class Fruit:\n",
        "    def fruit_info(self):\n",
        "        print(\"Inside Parent class\")\n",
        "class Apple(Fruit):\n",
        "    def fruit_info(self):\n",
        "        print(\"Inside the child class (fruit info)\")\n",
        "    def apple_info(self):\n",
        "        print(\"Inside the child class\")\n",
        "\n",
        "#method overriding>> child class is very powerfull\n",
        "#method overriding happend between two class"
      ],
      "metadata": {
        "id": "tkF_7KONwX69"
      },
      "execution_count": 1,
      "outputs": []
    },
    {
      "cell_type": "markdown",
      "source": [
        "5. Access Modifiers in Python\n",
        "\n",
        "Python doesn't have strict access modifiers like public, private, and protected. However, naming conventions are used:\n",
        "\n",
        "Public: Accessible from anywhere (default).\n",
        "\n",
        "Private: Accessible only within the class (prefixed with __).\n",
        "\n",
        "Protected: Accessible within the class and its subclasses (prefixed with _)."
      ],
      "metadata": {
        "id": "APLTe8gxwmv7"
      }
    },
    {
      "cell_type": "markdown",
      "source": [
        "6. Inheritance Types in Python\n",
        "\n",
        "Single Inheritance: A class inherits from one parent class.\n",
        "\n",
        "Multiple Inheritance: A class inherits from multiple parent classes.\n",
        "\n",
        "Multilevel Inheritance: A class inherits from a derived class.\n",
        "\n",
        "Hierarchical Inheritance: Multiple classes inherit from a single parent class.\n",
        "\n",
        "Hybrid Inheritance: A combination of multiple inheritance types."
      ],
      "metadata": {
        "id": "_4-k8ERAwzJa"
      }
    },
    {
      "cell_type": "code",
      "source": [
        "#Example Inheritance Types in Python\n",
        "class A:\n",
        "    pass\n",
        "\n",
        "class B:\n",
        "    pass\n",
        "\n",
        "class C(A, B):\n",
        "    pass  # Multiple inheritance"
      ],
      "metadata": {
        "id": "ZlXlULaRw5eO"
      },
      "execution_count": 3,
      "outputs": []
    },
    {
      "cell_type": "markdown",
      "source": [
        "7. Method Resolution Order (MRO)\n",
        "\n",
        "MRO defines the order in which methods are searched for when a method call is\n",
        "\n",
        "made on an instance. You can retrieve it using the __mro__ attribute:"
      ],
      "metadata": {
        "id": "g9mHQujCxOn9"
      }
    },
    {
      "cell_type": "code",
      "source": [
        "print(C.__mro__)"
      ],
      "metadata": {
        "colab": {
          "base_uri": "https://localhost:8080/"
        },
        "id": "OVl3SovkxZoL",
        "outputId": "d3980b65-2ebe-41e6-a57c-d804791d0113"
      },
      "execution_count": 4,
      "outputs": [
        {
          "output_type": "stream",
          "name": "stdout",
          "text": [
            "(<class '__main__.C'>, <class '__main__.A'>, <class '__main__.B'>, <class 'object'>)\n"
          ]
        }
      ]
    },
    {
      "cell_type": "code",
      "source": [
        "#8. Abstract Base Class and Subclasses\n",
        "\n",
        "from abc import ABC, abstractmethod\n",
        "\n",
        "class Shape(ABC):\n",
        "    @abstractmethod\n",
        "    def area(self):\n",
        "        pass\n",
        "\n",
        "class Circle(Shape):\n",
        "    def __init__(self, radius):\n",
        "        self.radius = radius\n",
        "\n",
        "    def area(self):\n",
        "        return 3.14 * self.radius * self.radius\n",
        "\n",
        "class Rectangle(Shape):\n",
        "    def __init__(self, length, width):\n",
        "        self.length = length\n",
        "        self.width = width\n",
        "\n",
        "    def area(self):\n",
        "        return self.length * self.width"
      ],
      "metadata": {
        "id": "0G9ZUhZxxgtL"
      },
      "execution_count": 5,
      "outputs": []
    },
    {
      "cell_type": "code",
      "source": [
        "#9. Polymorphism\n",
        "def calculate_area(shape):\n",
        "    print(shape.area())\n",
        "\n",
        "circle = Circle(5)\n",
        "rectangle = Rectangle(4, 6)\n",
        "\n",
        "calculate_area(circle)\n",
        "calculate_area(rectangle)\n"
      ],
      "metadata": {
        "id": "4_Kp0sUBxrhs"
      },
      "execution_count": null,
      "outputs": []
    },
    {
      "cell_type": "code",
      "source": [
        "#10. Encapsulation\n",
        "\n",
        "class BankAccount:\n",
        "    def __init__(self, account_number, balance):\n",
        "        self.__account_number = account_number\n",
        "        self.__balance = balance\n",
        "\n",
        "    def deposit(self, amount):\n",
        "        self.__balance += amount\n",
        "\n",
        "    def withdraw(self, amount):\n",
        "        if amount <= self.__balance:\n",
        "            self.__balance -= amount\n",
        "        else:\n",
        "            print(\"Insufficient balance\")\n",
        "\n",
        "    def check_balance(self):\n",
        "        print(\"Your balance is:\", self.__balance)"
      ],
      "metadata": {
        "id": "8gfniYiex0X-"
      },
      "execution_count": null,
      "outputs": []
    },
    {
      "cell_type": "code",
      "source": [
        "#11. Overriding str and add\n",
        "\n",
        "class MyClass:\n",
        "    def __init__(self, value):\n",
        "        self.value = value\n",
        "\n",
        "    def __str__(self):\n",
        "        return f\"MyClass object with value: {self.value}\"\n",
        "\n",
        "    def __add__(self, other):\n",
        "        return MyClass(self.value + other.value)"
      ],
      "metadata": {
        "id": "d3WxtcImx7vE"
      },
      "execution_count": null,
      "outputs": []
    },
    {
      "cell_type": "code",
      "source": [
        "#12. Decorator for Measuring Execution Time\n",
        "\n",
        "import time\n",
        "\n",
        "def measure_time(func):\n",
        "    def wrapper(*args, **kwargs):\n",
        "        start = time.time()\n",
        "        result = func(*args, **kwargs)\n",
        "        end = time.time()\n",
        "        print(f\"Function {func.__name__} took {end - start:.4f} seconds\")\n",
        "        return result\n",
        "    return wrapper"
      ],
      "metadata": {
        "id": "aAjgbJEMx_y9"
      },
      "execution_count": 6,
      "outputs": []
    },
    {
      "cell_type": "markdown",
      "source": [
        "13. Diamond Problem and Python's MRO\n",
        "\n",
        "The Diamond Problem occurs when a class inherits from two parents, and both\n",
        "\n",
        "parents inherit from a common ancestor. Python resolves this using C3\n",
        "\n",
        "linearization, a specific MRO algorithm."
      ],
      "metadata": {
        "id": "a5TaNqVTyKUL"
      }
    },
    {
      "cell_type": "code",
      "source": [
        "#14. Class Method to Count Instances\n",
        "class MyClass:\n",
        "    count = 0\n",
        "\n",
        "    def __init__(self):\n",
        "        MyClass.count += 1\n",
        "\n",
        "    @classmethod\n",
        "    def get_instance_count(cls):\n",
        "        return cls.count\n"
      ],
      "metadata": {
        "id": "eOvWk96CyQIS"
      },
      "execution_count": 7,
      "outputs": []
    },
    {
      "cell_type": "code",
      "source": [
        "#15. Static Method to Check Leap Year\n",
        "class DateUtils:\n",
        "    @staticmethod\n",
        "    def is_leap_year(year):\n",
        "        return (year % 4 == 0 and year % 100 != 0) or (year % 400 == 0)\n"
      ],
      "metadata": {
        "id": "S7Mq2Ifzyd0l"
      },
      "execution_count": 12,
      "outputs": []
    },
    {
      "cell_type": "code",
      "source": [],
      "metadata": {
        "id": "x_m2pVmtypBF"
      },
      "execution_count": null,
      "outputs": []
    }
  ]
}